{
  "nbformat": 4,
  "nbformat_minor": 0,
  "metadata": {
    "colab": {
      "name": "Lesson Ex_「面白い」を作る.ipynb",
      "provenance": [],
      "collapsed_sections": [],
      "authorship_tag": "ABX9TyNkL4LDLnr6YQDh4byE1wSD",
      "include_colab_link": true
    },
    "kernelspec": {
      "name": "python3",
      "display_name": "Python 3"
    }
  },
  "cells": [
    {
      "cell_type": "markdown",
      "metadata": {
        "id": "view-in-github",
        "colab_type": "text"
      },
      "source": [
        "<a href=\"https://colab.research.google.com/github/HailMoisten/Learn-Python-by-making-games/blob/master/Lesson_Ex_%E3%80%8C%E9%9D%A2%E7%99%BD%E3%81%84%E3%80%8D%E3%82%92%E4%BD%9C%E3%82%8B.ipynb\" target=\"_parent\"><img src=\"https://colab.research.google.com/assets/colab-badge.svg\" alt=\"Open In Colab\"/></a>"
      ]
    },
    {
      "cell_type": "markdown",
      "metadata": {
        "id": "xtHKIx0fM2Mz",
        "colab_type": "text"
      },
      "source": [
        "# **面白いゲームを作る**\n",
        "> 推奨レベル: ?\n",
        "\n",
        "ゲームは面白くてナンボです。メジャーな理論は知っておきましょう。\n",
        "\n",
        "面白さの本質を整理しながら、ゲームらしさを足してみましょう。"
      ]
    },
    {
      "cell_type": "markdown",
      "metadata": {
        "id": "T0jk5uOZSs0N",
        "colab_type": "text"
      },
      "source": [
        "## **Theory 1: ロジェ・カイヨワ『遊びと人間』(1958)**\n",
        "cf. [『遊びと人間』（ロジェ・カイヨワ，多田　道太郎，塚崎　幹夫）：講談社学術文庫｜講談社BOOK倶楽部](http://bookclub.kodansha.co.jp/product?item=0000150521)\n",
        "\n",
        "ロジェ・カイヨワ(Roger Caillois)は「遊び」を「意志⇔脱意志」、「ルール⇔脱ルール」の4分類に分けて考察した。\n",
        "\n",
        "- アゴン（競争：文字通り徒競走など））\n",
        "- アレア（偶然：ルーレットなど）\n",
        "- ミミクリ（模倣：演劇やRPGなど）\n",
        "- イリンクス（眩暈：絶叫マシーンなど）"
      ]
    },
    {
      "cell_type": "markdown",
      "metadata": {
        "id": "KB7yHZctM5dn",
        "colab_type": "text"
      },
      "source": [
        "## **Theory 2: MDA Framework(2005)**\n",
        "\n",
        "cf. [Hunicke. R; LeBlanc. M; Zubek. R, \"MDA: A Formal Approach to Game Design and Game Research\", CiteSeerX, 2005](https://citeseerx.ist.psu.edu/viewdoc/summary?doi=10.1.1.79.4561)\n",
        "\n",
        "ゲームの全体構造を分析する際、よく用いられてきたフレームワークである。\n",
        "エステティクス; Aestheticsが網羅的でないことが欠点。\n",
        "\n",
        "#### **ゲームの基本構造**\n",
        "- メカニクス（ゲームの構造、ルール）\n",
        "- ダイナミクス（メカニクスによって促されるプレイヤーの行動）\n",
        "- エステティクス（ダイナミクスによって生まれるプレイヤーの感情）\n",
        "\n",
        "#### **エステティクスの例**\n",
        "エステティクスにはこれらの8つ以外にも様々なものがあるだろう。\n",
        "\n",
        "1. **Sensation** (Game as sense-pleasure): Player enjoys memorable audio-visual effects.\n",
        "2. **Fantasy** (Game as make-believe): Imaginary world.\n",
        "3. **Narrative** (Game as drama): A story that drives the player to keep coming back\n",
        "4. **Challenge** (Game as obstacle course): Urge to master something. Boosts a game's replayability.\n",
        "5. **Fellowship** (Game as social framework): A community where the player is an active part of it. Almost exclusive for multiplayer games.\n",
        "6. **Discovery** (Game as uncharted territory): Urge to explore game world.\n",
        "7. **Expression** (Game as self-discovery): Own creativity. For example, creating character resembling player's own avatar.\n",
        "8. **Submission** (Game as pastime): Connection to the game, as a whole, despite of constraints.\n",
        "\n",
        "\n",
        "cf. [MDA framework - Wikipedia](https://en.wikipedia.org/wiki/MDA_framework)\n",
        "\n",
        "cf. [アナログゲームを通してMDAフレームワーク理論を学ぶ「MDAワークショップ（初級編）」体験レポート | インサイド](https://www.inside-games.jp/article/2013/03/06/64475.html)"
      ]
    },
    {
      "cell_type": "markdown",
      "metadata": {
        "id": "OfvvRS3uSgYl",
        "colab_type": "text"
      },
      "source": [
        "## **Theory Ex 1: Jesse Schell**\n",
        "[ゲームから学ぶ「おもしろさ」と「ハマる」の秘密 : could](https://yasuhisa.com/could/article/why-game-is-fun/) より引用\n",
        "\n",
        "Jesse Schellによると、おもしろさに必要なものは5つある。\n",
        "\n",
        "#### Surprise (驚き)\n",
        "自分が予測もしていなかったことが起こる。それに対して自分の経験と直感を活かし反応しなければならない\n",
        "\n",
        "#### Risk (リスク)\n",
        "すべてのアクションにはいくらかのリクスがあり、幾つか予測できるアクションからリスクが低いものを選択しなければならない\n",
        "\n",
        "#### Reward (報酬)\n",
        "多くのリスクを背負いながらも、その分何か大きな報酬をえることができる\n",
        "\n",
        "#### Challenge (挑戦)\n",
        "自分と同じかそれ以上の相手とのゲームは、より高い思索と注意深さを必要とする\n",
        "\n",
        "#### Discovery (発見)\n",
        "新しい戦略や遊び方をゲームをしているうちに学ぶことができる"
      ]
    },
    {
      "cell_type": "markdown",
      "metadata": {
        "id": "0IcFVHBpSi3P",
        "colab_type": "text"
      },
      "source": [
        "## **Theory Ex 2: 主体的構造モデル**\n",
        "\n",
        "cf. [ゲームの楽しさを図式化する ―楽しさを網羅的に分類する「主体性構造モデル」](https://www.slideshare.net/satoshiido9/ss-78801133)"
      ]
    },
    {
      "cell_type": "markdown",
      "metadata": {
        "id": "6oAXLz6D-mcN",
        "colab_type": "text"
      },
      "source": [
        "---"
      ]
    },
    {
      "cell_type": "markdown",
      "metadata": {
        "id": "8sG1Hz_j7SAX",
        "colab_type": "text"
      },
      "source": [
        "## **Theory Ex ?: In My Opinion**\n",
        "\n",
        "私は、面白さの本質は、認知心理学や生理学から分析すべきだと考えています。\n",
        "\n",
        "専門ではないので、齧った情報を頼りに書きます。\n",
        "\n",
        "カイヨワの理論に沿って、マズローの欲求ピラミッドなどを参照しながら説明してみます。\n",
        "（私はケンリックのピラミッドを支持していません。）\n",
        "\n",
        "### cf. **[自己実現理論 - Wikipedia](https://ja.wikipedia.org/wiki/%E8%87%AA%E5%B7%B1%E5%AE%9F%E7%8F%BE%E7%90%86%E8%AB%96)**\n",
        "0. 自己超越の欲求 (Self-transcendence) \n",
        "1. 自己実現の欲求 (Self-actualization)\n",
        "2. 承認（尊重）の欲求 (Esteem)\n",
        "3. 社会的欲求 / 所属と愛の欲求 (Social needs / Love and belonging)\n",
        "4. 安全の欲求 (Safety needs)\n",
        "5. 生理的欲求 (Physiological needs)\n",
        "\n",
        "---\n",
        "### **カイヨワによる「遊び」の分析と自己実現理論の対応**\n",
        "ロジェ・カイヨワ(Roger Caillois)は「遊び」を「意志⇔脱意志」、「ルール⇔脱ルール」の4分類に分けて考察した。\n",
        "\n",
        "||意志|脱意志|\n",
        "|----|----|----|\n",
        "|**ルール**| 競争 | 偶然 |\n",
        "|**脱ルール**| 模倣 | 眩暈 |\n",
        "\n",
        "### **競争; アゴン（意志＋ルール）**\n",
        "#### 満たされる欲求\n",
        "- 承認の欲求\n",
        "  - 勝つ - 価値がある -> 認められる（承認）\n",
        "  - 負ける（ストレス） -> パワーアップする -> 勝つ -> 略\n",
        "- 所属の欲求（競争にコミュニティがあれば）\n",
        "- 安全の欲求 - 支配欲や優越感\n",
        "\n",
        "\n",
        "### **偶然; アレア（脱意志＋ルール）**\n",
        "人は予想外のことが起きたとき、驚きを感じる。\n",
        "驚きは笑いと通じている。\n",
        "予想外を再現する最も直接的な要素が「偶然」である。\n",
        "\n",
        "- cf. 三段オチ\n",
        "\n",
        "### **模倣; ミミクリ（意志＋脱ルール）**\n",
        "現実の自分でなくなり、他人になりきる遊び。\n",
        "ゲームというメディアが最も得意とする遊び。\n",
        "\n",
        "没入感が高いと再現性も高い。\n",
        "- 自己投影と現実逃避\n",
        "- ロールプレイ\n",
        "- セルフチョイス\n",
        "  - キャラクターメイク\n",
        "  - マルチエンディング\n",
        "  - VRなど\n",
        "\n",
        "\n",
        "### **眩暈; イリンクス（脱意志＋脱ルール）**\n",
        "カイヨワはその他のカテゴリとして眩暈（イリンクス）を定義した。\n",
        "主に、ドーパミン、エルドルフィン、アドレナリンなどの脳内麻薬を分泌する遊びが含まれると考える。\n",
        "\n",
        "具体的には、シンプルにストレスを消費する遊びがあたる。\n",
        "- 破壊 e.g. 無双系\n",
        "- 成長・支配 e.g. シミュレーション、ハクスラ\n",
        "\n",
        "あえて適度にストレスを溜めさせ、解放させる遊びもあたる。\n",
        "- 恐怖、驚き e.g. ホラー\n",
        "- 過度な挑戦・予約された解放 e.g. 死にゲー、逆転ゲー\n",
        "\n",
        "#### **イリンクスの核（ストレスの解放）**\n",
        "ストレスを感じると、脳からノルアドレナリンが放出される。\n",
        "溜まったストレスを消費するとドーパミンが快楽をもたらす。\n",
        "\n",
        "ストレスを貯めれば貯めるほど、一気に消費したときの快楽が増大する。\n",
        "ただし、ストレスを溜めるにも限界（キャパシティ）はあり、それを越えそうになると要因（ストレッサー）から離れざるをえない。\n",
        "\n",
        "そのため、***程よくストレスを溜め、オーバーフローまでに消費する***サイクルを繰り返すことで、継続的に快楽を得ることができる。\n",
        "\n",
        "これがイリンクスの核である。\n",
        "\n",
        "#### **理不尽というストレッサー**\n",
        "プレイヤーは、いわゆる**理不尽**を感じるとモチベーションを著しく落とす。\n",
        "理不尽が無限のストレッサーになるためである。\n",
        "\n",
        "理不尽は、失敗確率・成功までのコスト・成功報酬が量れない状態や、量れたそれら（リスク・リターン）が見合っておらず、自らの裁量でそれを変えられない状態にあるとき、感じるものである。\n",
        "\n",
        "#### **ストレッサー→報酬の例**\n",
        "報酬（リターン、インセンティブ）はゲーム内のステータスやアイテムだけでなく、プレイヤーの成長やストレスからの開放も含む。\n",
        "\n",
        "欲求を満たせずストレスが段々溜まる状態→欲求を満たしストレスを消費した状態の例\n",
        "\n",
        "- 緊張（精神的不自由）→解放（精神的自由）\n",
        "- 不快→快\n",
        "- 不安→安心\n",
        "- 被支配→支配\n",
        "- 努力（コスト）→成果（達成報酬）\n",
        "\n",
        "> 面白い（気持ちいい）と直感的に感じる変化の例\n",
        "\n",
        "緊張は、強すぎても弱すぎてもモチベーションを下げてしまうため、バランスが非常に難しい。\n",
        "この最適なバランスは、つまるところアメとムチの最適比率であるが、おそらく明確な正解はない。\n",
        "> 個人的な体感では、アメ:ムチ=1:9～1:3あたりに大衆のスポットがあると考えている。cf. 世界のナベアツは1/3より大きい\n",
        "\n",
        "#### **報酬と依存**\n",
        "報酬を与えると、それと紐付いた快楽を学習させ、依存させることができる。\n",
        "依存によってモチベーションの維持を図ることができる。\n",
        "\n",
        "#### **学習→食傷→忘却のサイクル**\n",
        "学習すると、飽き（食傷）が始まり、食傷はより強い快楽を求めさせる。\n",
        "快楽のエスカレートには限界があるため、他の報酬を学習したり、時間を置くことで忘却させる必要がある。\n",
        "\n",
        "忘却できれば、また新たな学習が可能となる。\n",
        "\n",
        "依存の維持のためには、学習→食傷→忘却→学習のサイクルを上手く回し続けられる仕掛けが必要となる。\n",
        "\n",
        "#### **理想的なイリンクスの性質**\n",
        "モチベーションを維持させることを理想のイリンクスが持つ課題とするならば、5つの性質を満たす必要があると考える。\n",
        "\n",
        "- 理不尽をなくす\n",
        "- 程度なストレスを与える\n",
        "- 溜まったストレスは必ず消費する\n",
        "- 報酬を与えて依存させる\n",
        "- 学習→食傷→忘却のサイクルで依存を保つ\n",
        "\n",
        "---"
      ]
    }
  ]
}