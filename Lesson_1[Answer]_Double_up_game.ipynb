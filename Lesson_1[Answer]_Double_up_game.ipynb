{
  "nbformat": 4,
  "nbformat_minor": 0,
  "metadata": {
    "colab": {
      "name": "Lesson 1[Answer]: Double-up game",
      "provenance": [],
      "collapsed_sections": [],
      "authorship_tag": "ABX9TyNuESdiherdM1dxZ4XPM+Gx",
      "include_colab_link": true
    },
    "kernelspec": {
      "name": "python3",
      "display_name": "Python 3"
    }
  },
  "cells": [
    {
      "cell_type": "markdown",
      "metadata": {
        "id": "view-in-github",
        "colab_type": "text"
      },
      "source": [
        "<a href=\"https://colab.research.google.com/github/HailMoisten/Learn-Python-by-making-games/blob/master/Lesson_1%5BAnswer%5D_Double_up_game.ipynb\" target=\"_parent\"><img src=\"https://colab.research.google.com/assets/colab-badge.svg\" alt=\"Open In Colab\"/></a>"
      ]
    },
    {
      "cell_type": "markdown",
      "metadata": {
        "id": "xtHKIx0fM2Mz",
        "colab_type": "text"
      },
      "source": [
        "# **ダブルアップゲームを作る**\n",
        "> 推奨レベル: Progateの「Python I」修了レベル\n",
        "\n",
        "文字出力（print）でド○クエカジノのポーカーで遊べるダブルアップゲームを作ってみよう。\n",
        "\n",
        "完成形のイメージ: https://www.youtube.com/watch?v=8KhQGgexN1w"
      ]
    },
    {
      "cell_type": "markdown",
      "metadata": {
        "id": "KB7yHZctM5dn",
        "colab_type": "text"
      },
      "source": [
        "# **Level 1: モジュールのimportと自学**\n",
        "cf. [インポート | Python-izm](https://www.python-izm.com/basic/import/)\n",
        "\n",
        "### **要件**というより設計図\n",
        "1. **1～13のランダムな値を表示する。**\n",
        "\n",
        "### **ヒント**というより手順\n",
        "> ダブルクリックで表示\n",
        "\n",
        "<!---\n",
        "1. pythonで使える乱数生成関数を調べる。\n",
        "1. import文と例文を参考にして，モジュールをimportする。（おそらくnumpy.randomがヒットする）\n",
        "1. importしたモジュールの構文を確認する。\n",
        "1. 1～13のランダムな値をprintする。\n",
        "-->"
      ]
    },
    {
      "cell_type": "code",
      "metadata": {
        "id": "6ynDmnUpM1lP",
        "colab_type": "code",
        "colab": {}
      },
      "source": [
        "# Level 1: サンプルコード\n",
        "\n",
        "import numpy as np # 乱数を発生させる関数の呼び出し\n",
        "np.random.randint(1,13+1)"
      ],
      "execution_count": 0,
      "outputs": []
    },
    {
      "cell_type": "markdown",
      "metadata": {
        "id": "kbD0awDormtI",
        "colab_type": "text"
      },
      "source": [
        "## **Level 1 解説**\n",
        "---\n",
        "\n",
        "```\n",
        "random_integers(1,13)\n",
        "```\n",
        "を使った場合、下のエラー文が出力される。\n",
        "\n",
        "> 2: DeprecationWarning: This function is deprecated. Please call randint(1, 13 + 1) instead\n",
        "\n",
        "random_integers は deprecatedらしいので randintに書き換えよう。\n",
        "\n",
        "13ではなく13+1と支持されているのでおとなしく従っておこう。\n",
        "\n",
        "気になったらリファレンスを読む（調べる）こと。\n",
        "\n",
        "\n",
        "## import と asについて\n",
        "---\n",
        "\n",
        "```\n",
        "import numpy as np # 乱数を発生させる関数の呼び出し\n",
        "print(np.random.randint(1,13+1))\n",
        "```\n",
        "as npはnumpyモジュールをnpという別名でimportするという意味。\n",
        "asを使わない場合はモジュール名などをすべて打つことになる。\n",
        "```\n",
        "import numpy\n",
        "print(numpy.random.randint(1,13+1))\n",
        "```\n",
        "頻繁に使う場合はasで短い名前にすると，タイプを減らせるし，見た目もすっきりする。\n",
        "```\n",
        "from numpy import random as rd\n",
        "print(rd.randint(1,13+1))\n",
        "```\n",
        "\n",
        "でも，短すぎると他の名前と混同しやすくなる。\n",
        "名前の単純さと唯一性はトレードオフなんだよね。\n",
        "numpyの場合はas npされるのが慣例のようなので、それに倣おう。\n",
        "\n",
        "\n",
        "## 標準モジュールと追加モジュール\n",
        "---\n",
        "初めから入っている標準モジュールがいくつかあって、その中には乱数を生成できるrandomというモジュールもある。\n",
        "\n",
        "```\n",
        "import random\n",
        "random.randint(1,13)\n",
        "```\n",
        "これが最も短い答えかな。\n",
        "\n",
        "random.randomとnumpy.random、どちらも不要ではない。というか不要ならdeprecatedされる。気になったら使い分けを調べてみよう。\n",
        "\n",
        "bty モジュールはライブラリ、パッケージ、メンバーなどと呼ばれることがある。\n",
        "\n",
        "パッケージ > モジュール > メンバー らしい？\n",
        "\n",
        "読み分けの詳細はこことかを参照\n",
        "\n",
        "cf. [はじめに — pep8-ja 1.0 ドキュメント](https://pep8-ja.readthedocs.io/ja/latest/)\n",
        "\n",
        "---"
      ]
    },
    {
      "cell_type": "markdown",
      "metadata": {
        "colab_type": "text",
        "id": "AChdv7rwmH5w"
      },
      "source": [
        "# **Level 2: 変数と識別子**\n",
        "cf. [変数の基本 - Python学習講座](https://www.python.ambitious-engineer.com/archives/128)\n",
        "\n",
        "値を保存して活用するためには変数を使います。\n",
        "変数の識別子（名前）は自由に決められますが，他人や未来の自分が見たとき「どんな値が入っているか直感的に分かる」ような名前にしましょう。\n",
        "\n",
        "Pythonによって予約された数十個の単語は使えません。変数らしい名前(?)にしましょう。\n",
        "\n",
        "cf. [識別子 - Python学習講座](https://www.python.ambitious-engineer.com/archives/52)\n",
        "\n",
        "cf. [命名規則「キャメルケース」「スネークケース」「ケバブケース」についてまとめてみました | 大阪市天王寺区SOHOホームページ制作 | デザインサプライ-DesignSupply.-](https://designsupply-web.com/developmentlab/4052/)\n",
        "\n",
        "## **要件**\n",
        "1. **(*)1～13のランダムな値を変数Aに保存する。**\n",
        "1. **(*)変数Aを表示する。**\n",
        "1. **(+)1～13のランダムな値を変数Bに保存する。**\n",
        "1. **(+)変数Bを表示する。**"
      ]
    },
    {
      "cell_type": "code",
      "metadata": {
        "id": "YZ-MsgjTtrMQ",
        "colab_type": "code",
        "colab": {}
      },
      "source": [
        "# Level 2: サンプルコード\n",
        "\n",
        "import numpy as np\n",
        "\n",
        "fieldNum = np.random.randint(1, 13+1)\n",
        "print('場のカードは', fieldNum, 'です。')\n",
        "nextNum = np.random.randint(1, 13+1)\n",
        "print('次のカードは', nextNum, 'でした。')"
      ],
      "execution_count": 0,
      "outputs": []
    },
    {
      "cell_type": "markdown",
      "metadata": {
        "id": "jiw8tJQbnV0v",
        "colab_type": "text"
      },
      "source": [
        "# **Level 3: if 文**\n",
        "cf. [if文 - Python学習講座](https://www.python.ambitious-engineer.com/archives/218)\n",
        "\n",
        "### **要件**\n",
        "1. 1～13のランダムな値を変数Aに格納して表示する。\n",
        "1. 1～13のランダムな値を変数Bに格納して表示する。\n",
        "1. **(+)AとBを比較して、同じなら「Even」、Bが大きいなら「High」、Bが小さいなら「Low」と表示する。**\n",
        "\n",
        "### **ヒント**\n",
        "if文のおわりには「:（半角コロン）」を必ずつけましょう。\n",
        "if文の範囲はTabで字下げ（インデント）を入れましょう。"
      ]
    },
    {
      "cell_type": "code",
      "metadata": {
        "id": "SZNodgo23A_u",
        "colab_type": "code",
        "outputId": "eac52c21-821b-4ff0-f853-431f2d6fd0fc",
        "colab": {
          "base_uri": "https://localhost:8080/",
          "height": 68
        }
      },
      "source": [
        "# Level 3: サンプルコード\n",
        "\n",
        "import numpy as np\n",
        "\n",
        "fieldNum = np.random.randint(1, 13+1)\n",
        "print('場のカードは', fieldNum, 'です。')\n",
        "nextNum = np.random.randint(1, 13+1)\n",
        "print('次のカードは', nextNum, 'でした。')\n",
        "\n",
        "if fieldNum == nextNum: # Add -\n",
        "  print('Even')\n",
        "elif fieldNum < nextNum:\n",
        "  print('High')\n",
        "elif fieldNum > nextNum:\n",
        "  print('Low') # - Add"
      ],
      "execution_count": 0,
      "outputs": [
        {
          "output_type": "stream",
          "text": [
            "場のカードは 3 です。\n",
            "カードは 11 でした。\n",
            "High\n"
          ],
          "name": "stdout"
        }
      ]
    },
    {
      "cell_type": "markdown",
      "metadata": {
        "colab_type": "text",
        "id": "cNhe9-QImI9v"
      },
      "source": [
        "# **Level 4: input**\n",
        "cf. [コンソールからの入力 (input / raw_input) | Python-izm](https://www.python-izm.com/introduction/console_input/)\n",
        "\n",
        "### **要件**\n",
        "\n",
        "1. 1～13のランダムな値をAに格納して表示する。\n",
        "1. **(+)「次のカードが場のカードより高いか低いかを選んでください。高いと思うなら1を、低いと思うなら2を入力してください。」と聞き、「1」か「2」の入力を求める。**\n",
        "1. 1～13のランダムな値をBに格納して表示する。\n",
        "1. **(*)AとBを比較し、同じなら「0」、Bが高いなら「1」、Bが低いなら「2」を比較結果Cに格納する。**\n",
        "1. **(+)比較結果Cが「0」なら「引き分けです。」と表示する。**\n",
        "1. **(+)比較結果Cが入力と同じなら「ダブルアップ成功です！」、異なるなら「残念。」と表示する。**\n",
        "\n",
        "### **ヒント**\n",
        "input()だと型が文字列になってしまい、数値との比較がうまくいかなくなります。\n",
        "int()で数値型に変換しましょう。\n"
      ]
    },
    {
      "cell_type": "code",
      "metadata": {
        "id": "gG8vFaVALxcE",
        "colab_type": "code",
        "colab": {}
      },
      "source": [
        "# Level 4: サンプルコード\n",
        "\n",
        "import numpy as np\n",
        "\n",
        "fieldNum = np.random.randint(1, 13+1)\n",
        "print('場のカードは', fieldNum, 'です。'))\n",
        "\n",
        "print('次のカードが場のカードより高いか低いかを選んでください。高いと思うなら1を、低いと思うなら2を入力してください。') # Add\n",
        "answerNum = int(input('あなたの選択: ')) # Hint # Add\n",
        "\n",
        "nextNum = np.random.randint(1, 13+1)\n",
        "print('次のカードは', nextNum, 'でした。')\n",
        "\n",
        "if fieldNum == nextNum:\n",
        "  resultNum = 0 # Change\n",
        "elif fieldNum < nextNum:\n",
        "  resultNum = 1 # Change\n",
        "elif fieldNum > nextNum:\n",
        "  resultNum = 2 # Change\n",
        "\n",
        "if resultNum == 0: # Add -\n",
        "  print('引き分けです。')\n",
        "elif resultNum == answerNum:\n",
        "  print('ダブルアップ成功です！')\n",
        "elif resultNum != answerNum:\n",
        "  print('残念でした。') # - Add"
      ],
      "execution_count": 0,
      "outputs": []
    },
    {
      "cell_type": "markdown",
      "metadata": {
        "id": "nAcLEEyzOPrP",
        "colab_type": "text"
      },
      "source": [
        "cf. [タプル(tuple)型 - Python学習講座](https://www.python.ambitious-engineer.com/archives/168)"
      ]
    },
    {
      "cell_type": "code",
      "metadata": {
        "colab_type": "code",
        "id": "xbPdIZomstoO",
        "outputId": "eedc4f22-591f-4d89-a759-693d75bdf262",
        "colab": {
          "base_uri": "https://localhost:8080/",
          "height": 119
        }
      },
      "source": [
        "# Level 4: Exサンプルコード\n",
        "# 配列を使用して内部ではEven, High, Lowを使用しているバージョン\n",
        "# アンダーライン_でつなぐスネークケースを使用\n",
        "\n",
        "import numpy as np\n",
        "\n",
        "comparison_text = ('Even', 'High', 'Low')\n",
        "field_num = np.random.randint(1,13+1)\n",
        "print('場のカードは',field_num,'です。')\n",
        "print('次のカードが場のカードより高いか低いかを選んでください。引き分けはリトライです。高いと思うなら1を、低いと思うなら2を入力してください。')\n",
        "answer_num = input('あなたの選択: ')\n",
        "answer_text = comparison_text[int(answer_num)]\n",
        "\n",
        "next_num = np.random.randint(1,13+1)\n",
        "print('数字は',next_num,'でした。')\n",
        "\n",
        "if field_num == next_num:\n",
        "  result_comparison = comparison_text[0]\n",
        "elif field_num < next_num:\n",
        "  result_comparison = comparison_text[1]\n",
        "elif field_num > next_num:\n",
        "  result_comparison = comparison_text[2]\n",
        "print(result_comparison, 'です。')\n",
        "\n",
        "if result_comparison == comparison_text[0]:\n",
        "  print('引き分けです。')\n",
        "elif result_comparison == answer_text:\n",
        "  print('ダブルアップ成功です！')\n",
        "elif result_comparison != answer_text:\n",
        "  print('残念でした。')"
      ],
      "execution_count": 0,
      "outputs": [
        {
          "output_type": "stream",
          "text": [
            "場のカードは 9 です。\n",
            "次のカードが場のカードより高いか低いかを選んでください。引き分けはリトライです。高いと思うなら1を、低いと思うなら2を入力してください。\n",
            "あなたの選択: 1\n",
            "数字は 11 でした。\n",
            "High です。\n",
            "ダブルアップ成功です！\n"
          ],
          "name": "stdout"
        }
      ]
    },
    {
      "cell_type": "markdown",
      "metadata": {
        "id": "7xfSKxZgIQRZ",
        "colab_type": "text"
      },
      "source": [
        "# **Level 5: for文を使う**\n",
        "cf. [for文 - Python学習講座](https://www.python.ambitious-engineer.com/archives/233)\n",
        "\n",
        "何度も同じことをさせるときは、for文の繰り返しを使いましょう。\n",
        "```\n",
        "import numpy as np\n",
        "for v in range(10):\n",
        "  print(np.random.randint(1,13+1))\n",
        "```\n",
        "で乱数を10回出力できます。\n",
        "range型の理解も深めておきましょう。\n",
        "\n",
        "cf. [range型 - Python学習講座](https://www.python.ambitious-engineer.com/archives/198)\n",
        "\n",
        "\n",
        "### **要件**\n",
        "1. (*)1～13のランダムな値をAに格納する。\n",
        "1. **(+)10回ループ1を始める。**\n",
        "1. **(+)ループ1のループ回数を表示する。**\n",
        "1. (*)Aを表示する。\n",
        "1. 「次のカードが場のカードより高いか低いかを選んでください。高いと思うなら1を、低いと思うなら2を入力してください。」と聞き、「1」か「2」の入力を求める。\n",
        "1. 1～13のランダムな値をBに格納して表示する。\n",
        "1. AとBを比較し、同じなら「0」、Bが高いなら「1」、Bが低いなら「2」を比較結果Cに格納する。\n",
        "1. Cが「0」なら「引き分けです。」と表示する。\n",
        "1. Cが入力と同じなら「ダブルアップ成功です！」と表示する。\n",
        "1. **(*)Cが入力と異なるなら「残念。」と表示し、ループを抜ける。**\n",
        "1. **(+)AにBを代入し、1. に戻る。**"
      ]
    },
    {
      "cell_type": "code",
      "metadata": {
        "id": "kh-tRikg3BbD",
        "colab_type": "code",
        "colab": {}
      },
      "source": [
        "# Level 5: サンプルコード\n",
        "\n",
        "import numpy as np\n",
        "\n",
        "fieldNum = np.random.randint(1, 13+1)\n",
        "\n",
        "for v in range(10): # Add\n",
        "  print(v, '回目のダブルアップです。') # Add\n",
        "  print('場のカードは', fieldNum, 'です。')\n",
        "  print('次のカードが場のカードより高いか低いかを選んでください。高いと思うなら1を、低いと思うなら2を入力してください。')\n",
        "  answerNum = int(input('あなたの選択: '))\n",
        "\n",
        "  nextNum = np.random.randint(1, 13+1)\n",
        "  print('次のカードは', nextNum, 'でした。')\n",
        "\n",
        "  if fieldNum == nextNum:\n",
        "    resultNum = 0\n",
        "  elif fieldNum < nextNum:\n",
        "    resultNum = 1\n",
        "  elif fieldNum > nextNum:\n",
        "    resultNum = 2\n",
        "\n",
        "  if resultNum == 0:\n",
        "    print('引き分けです。')\n",
        "  elif resultNum == answerNum:\n",
        "    print('ダブルアップ成功です！')\n",
        "  elif resultNum != answerNum:\n",
        "    print('残念でした。')\n",
        "    break # Add\n",
        "\n",
        "  fieldNum = nextNum # Add\n",
        "  print('')"
      ],
      "execution_count": 0,
      "outputs": []
    },
    {
      "cell_type": "markdown",
      "metadata": {
        "id": "nOuaIZMH61WK",
        "colab_type": "text"
      },
      "source": [
        "# **Level 6: while 文を使う**\n",
        "cf. [while文 - Python学習講座](https://www.python.ambitious-engineer.com/archives/239)\n",
        "\n",
        "for文では繰り返し回数を指定するので、無限ループには適していません。\n",
        "条件を満たすまで無限に繰り返したい場合はwhile文を使いましょう。\n",
        "for文の繰り返し回数が使えなくなりましたが、引き分けでも増える繰り返し回数ではなく、成功時のみ増えるダブルアップ回数を表示しましょう。\n",
        "\n",
        "### **要件**\n",
        "1. 1～13のランダムな値をAに格納する。\n",
        "1. **(*)無限ループ1を始める。**\n",
        "1. **(+)ダブルアップ回数Dを表示する。** （10回ループ1のループ回数を表示する。）\n",
        "1. Aを表示する。\n",
        "1. 「次のカードが場のカードより高いか低いかを選んでください。高いと思うなら1を、低いと思うなら2を入力してください。」と聞き、「1」か「2」の入力を求める。\n",
        "1. 1～13のランダムな値をBに格納して表示する。\n",
        "1. AとBを比較し、同じなら「0」、Bが高いなら「1」、Bが低いなら「2」を比較結果Cに格納する。\n",
        "1. Cが「0」なら「引き分けです。」と表示する。\n",
        "1. **(*)Cが入力と同じなら「ダブルアップ成功です！」と表示して、 ダブルアップ回数Dに1を足す。**\n",
        "1. Cが入力と異なるなら「残念。」と表示し、ループを抜ける。\n",
        "1. AにBを代入し、1. に戻る。"
      ]
    },
    {
      "cell_type": "code",
      "metadata": {
        "id": "QpQDGLE07JUj",
        "colab_type": "code",
        "outputId": "be37d980-bf8a-4ff7-e097-84347c8198e6",
        "colab": {
          "base_uri": "https://localhost:8080/",
          "height": 272
        }
      },
      "source": [
        "# Level 6: サンプルコードA（Level 4: Exサンプルコードをmarge）\n",
        "\n",
        "import numpy as np # 乱数を発生させる関数の呼び出し\n",
        "\n",
        "ComparisonText = ('Even', 'High', 'Low') # Ex\n",
        "doubleupCount = 1 # Add\n",
        "\n",
        "fieldNum = np.random.randint(1, 13+1)\n",
        "\n",
        "while True: # Change\n",
        "  print(doubleupCount, '回目のダブルアップです。') # Add\n",
        "  print('場のカードは', fieldNum, 'です。')\n",
        "  print('次のカードが場のカードより高いか低いかを選んでください。高いと思うなら1を、低いと思うなら2を入力してください。')\n",
        "  answerNum = int(input('あなたの選択: '))\n",
        "  answerText = ComparisonText[int(answerNum)] # Ex\n",
        "\n",
        "  nextNum = np.random.randint(1, 13+1)\n",
        "  print('次のカードは', nextNum, 'でした。')\n",
        "\n",
        "  if fieldNum == nextNum: # Ex\n",
        "    resultText = ComparisonText[0] # Ex\n",
        "  elif fieldNum < nextNum: # Ex\n",
        "    resultText = ComparisonText[1] # Ex\n",
        "  elif fieldNum > nextNum: # Ex\n",
        "    resultText = ComparisonText[2] # Ex\n",
        "  print(resultText, 'です。')\n",
        "\n",
        "  if resultText == ComparisonText[0]: # Ex\n",
        "    print('引き分けです。')\n",
        "  elif resultText == answerText: # Ex\n",
        "    print('おめでとうございます！')\n",
        "    doubleupCount = doubleupCount + 1 # Add\n",
        "  elif resultText != answerText: # Ex\n",
        "    print('残念でした。')\n",
        "    break # Stay\n",
        "  fieldNum = nextNum\n",
        "  print('')"
      ],
      "execution_count": 0,
      "outputs": [
        {
          "output_type": "stream",
          "text": [
            "1 回目のダブルアップです。\n",
            "場のカードは 2 です。\n",
            "次のカードが場のカードより高いか低いかを選んでください。高いと思うなら1を、低いと思うなら2を入力してください。\n",
            "あなたの選択: 1\n",
            "次のカードは 2 でした。\n",
            "Even です。\n",
            "引き分けです。\n",
            "\n",
            "1 回目のダブルアップです。\n",
            "場のカードは 2 です。\n",
            "次のカードが場のカードより高いか低いかを選んでください。高いと思うなら1を、低いと思うなら2を入力してください。\n",
            "あなたの選択: 2\n",
            "次のカードは 11 でした。\n",
            "High です。\n",
            "残念でした。\n"
          ],
          "name": "stdout"
        }
      ]
    },
    {
      "cell_type": "markdown",
      "metadata": {
        "id": "PL6SC3XKQHsI",
        "colab_type": "text"
      },
      "source": [
        "# **Level 7: 論理演算とwhile文の応用**\n",
        "\n",
        "cf. [bool(論理)型 - Python学習講座](https://www.python.ambitious-engineer.com/archives/204)\n",
        "1,2以外の入力をされても止まらないように、while文を使って入力を無限にやり直させましょう。\n",
        "複数の条件は論理演算でスマートに書けることがあります。\n",
        "\n",
        "### **要件**\n",
        "1. 1～13のランダムな値をAに格納する。\n",
        "1. 無限ループ1を始める。\n",
        "1. ダブルアップ回数Dを表示する。\n",
        "1. Aを表示する。\n",
        "1. 「次のカードが場のカードより高いか低いかを選んでください。高いと思うなら1を、低いと思うなら2を入力してください。」と聞き、「1」か「2」の入力を求める。\n",
        "1. **(+)入力が1か2なら次に進み、それ以外ならもう一度入力を求める。**\n",
        "1. 1～13のランダムな値をBに格納して表示する。\n",
        "1. AとBを比較し、同じなら「0」、Bが高いなら「1」、Bが低いなら「2」を比較結果Cに格納する。\n",
        "1. Cが「0」なら「引き分けです。」と表示する。\n",
        "1. Cが入力と同じなら「ダブルアップ成功です！」と表示して、 ダブルアップ回数Dに1を足す。\n",
        "1. Cが入力と異なるなら「残念。」と表示し、無限ループ1を抜ける。\n",
        "1. AにBを代入し、1. に戻る。\n",
        "\n",
        "### **ヒント**\n",
        "if文で入力をチェックする。条件に合うまで聞きたいのでwhile True:を使う。\n",
        "\n"
      ]
    },
    {
      "cell_type": "code",
      "metadata": {
        "id": "lOx6OkePQHEp",
        "colab_type": "code",
        "outputId": "ea3ff304-7293-453b-9f9c-913c0e495e04",
        "colab": {
          "base_uri": "https://localhost:8080/",
          "height": 680
        }
      },
      "source": [
        "# Level 7: サンプルコード（Level 4: Exサンプルコードを引き継ぎ）\n",
        "\n",
        "import numpy as np # 乱数を発生させる関数の呼び出し\n",
        "\n",
        "ComparisonText = ('Even', 'High', 'Low') # Ex\n",
        "doubleupCount = 1\n",
        "\n",
        "fieldNum = np.random.randint(1, 13+1)\n",
        "\n",
        "while True:\n",
        "  print(doubleupCount, '回目のダブルアップです。')\n",
        "  print('場のカードは', fieldNum, 'です。')\n",
        "  print('次のカードが場のカードより高いか低いかを選んでください。高いと思うなら1を、低いと思うなら2を入力してください。')\n",
        "\n",
        "  while True: # Add -\n",
        "    inputText = input('あなたの選択: ')\n",
        "    if inputText == '1' or inputText == '2':\n",
        "       break\n",
        "    else:\n",
        "      print('高いなら「1」、低いなら「2」を入力してください。') # - Add\n",
        "  \n",
        "  answerNum = int(inputText)\n",
        "  answerText = ComparisonText[int(answerNum)] # Ex\n",
        "\n",
        "  nextNum = np.random.randint(1, 13+1)\n",
        "  print('次のカードは', nextNum, 'でした。')\n",
        "\n",
        "  if fieldNum == nextNum: # Ex\n",
        "    resultText = ComparisonText[0] # Ex\n",
        "  elif fieldNum < nextNum: # Ex\n",
        "    resultText = ComparisonText[1] # Ex\n",
        "  elif fieldNum > nextNum: # Ex\n",
        "    resultText = ComparisonText[2] # Ex\n",
        "  print(resultText, 'です。')\n",
        "\n",
        "  if resultText == ComparisonText[0]: # Ex\n",
        "    print('引き分けです。')\n",
        "  elif resultText == answerText: # Ex\n",
        "    print('おめでとうございます！')\n",
        "    doubleupCount = doubleupCount + 1\n",
        "  elif resultText != answerText: # Ex\n",
        "    print('残念でした。')\n",
        "    break\n",
        "  fieldNum = nextNum\n",
        "  print('')"
      ],
      "execution_count": 0,
      "outputs": [
        {
          "output_type": "stream",
          "text": [
            "1 回目のダブルアップです。\n",
            "場のカードは 12 です。\n",
            "次のカードが場のカードより高いか低いかを選んでください。高いと思うなら1を、低いと思うなら2を入力してください。\n",
            "あなたの選択: 2\n",
            "次のカードは 9 でした。\n",
            "Low です。\n",
            "おめでとうございます！\n",
            "\n",
            "2 回目のダブルアップです。\n",
            "場のカードは 9 です。\n",
            "次のカードが場のカードより高いか低いかを選んでください。高いと思うなら1を、低いと思うなら2を入力してください。\n",
            "あなたの選択: 1\n",
            "次のカードは 12 でした。\n",
            "High です。\n",
            "おめでとうございます！\n",
            "\n",
            "3 回目のダブルアップです。\n",
            "場のカードは 12 です。\n",
            "次のカードが場のカードより高いか低いかを選んでください。高いと思うなら1を、低いと思うなら2を入力してください。\n",
            "あなたの選択: 2\n",
            "次のカードは 6 でした。\n",
            "Low です。\n",
            "おめでとうございます！\n",
            "\n",
            "4 回目のダブルアップです。\n",
            "場のカードは 6 です。\n",
            "次のカードが場のカードより高いか低いかを選んでください。高いと思うなら1を、低いと思うなら2を入力してください。\n",
            "あなたの選択: 1\n",
            "次のカードは 11 でした。\n",
            "High です。\n",
            "おめでとうございます！\n",
            "\n",
            "5 回目のダブルアップです。\n",
            "場のカードは 11 です。\n",
            "次のカードが場のカードより高いか低いかを選んでください。高いと思うなら1を、低いと思うなら2を入力してください。\n",
            "あなたの選択: 1\n",
            "次のカードは 2 でした。\n",
            "Low です。\n",
            "残念でした。\n"
          ],
          "name": "stdout"
        }
      ]
    },
    {
      "cell_type": "markdown",
      "metadata": {
        "id": "ZledE2eYxoGw",
        "colab_type": "text"
      },
      "source": [
        "# **Level 8: タプル**\n",
        "\n",
        "タプルやLevel 8のリストのことを多言語では配列（インデックス）と呼んだりします。\n",
        "複数の入れ物を持つ変数です。めっちゃ使います。\n",
        "\n",
        "cf. [タプル(tuple)型 - Python学習講座](https://www.python.ambitious-engineer.com/archives/168)\n",
        "\n",
        "タプルは不変の配列です。途中で中身を書き換えできません。不変なので変数ではなく不変数ですね。初めに設定して、終始変化しないものを入れるとよいかもしれません。\n",
        "今回はトランプ本体に適していると思います。\n",
        "\n",
        "### 要件\n",
        "1. **(+)A,2～10,J,Q,Kのセット1を用意する。**\n",
        "1. 1～13のランダムな値をAに格納する。\n",
        "1. 無限ループ1を始める。\n",
        "1. ダブルアップ回数Dを表示する。\n",
        "1. **(*)Aに対応したセット1の文字を表示する。**\n",
        "1. Aを表示する。\n",
        "1. 「次のカードが場のカードより高いか低いかを選んでください。高いと思うなら1を、低いと思うなら2を入力してください。」と聞き、「1」か「2」の入力を求める。\n",
        "1. 入力が1か2なら次に進み、それ以外ならもう一度入力を求める。\n",
        "1. **(*)1～13のランダムな値をBに格納し、Bに対応したセット1の文字を表示する。**\n",
        "1. AとBを比較し、同じなら「0」、Bが高いなら「1」、Bが低いなら「2」を比較結果Cに格納する。**(!)ただし、AはKよりも高いとする。**\n",
        "1. Cが「0」なら「引き分けです。」と表示する。\n",
        "1. Cが入力と同じなら「ダブルアップ成功です！」と表示して、 ダブルアップ回数Dに1を足す。\n",
        "1. Cが入力と異なるなら「残念。」と表示し、無限ループ1を抜ける。\n",
        "1. AにBを代入し、1. に戻る。\n",
        "\n",
        "### ヒント\n",
        "配列は作った大きさの外を指定するとエラーをになります。\n",
        "Python 3の配列の1番目は「0」です。気をつけましょう。\n",
        "A(>K)の実装方法はいくつかありますよね。"
      ]
    },
    {
      "cell_type": "code",
      "metadata": {
        "id": "72g9DMAe1Iq9",
        "colab_type": "code",
        "colab": {
          "base_uri": "https://localhost:8080/",
          "height": 136
        },
        "outputId": "df03fb3f-74ce-4837-cccd-bad587052979"
      },
      "source": [
        "# Level 8: サンプルコード\n",
        "\n",
        "import numpy as np # 乱数を発生させる関数の呼び出し\n",
        "\n",
        "ComparisonText = ('Even', 'High', 'Low')\n",
        "doubleupCount = 1\n",
        "trump = ('2', '3', '4', '5', '6', '7', '8', '9', '10', 'J', 'Q', 'K', 'A') # Add (!)\n",
        "\n",
        "fieldNum = np.random.randint(1, 13+1)\n",
        "\n",
        "while True:\n",
        "  print(doubleupCount, '回目のダブルアップです。')\n",
        "  print('場のカードは',trump[fieldNum-1],'です。') # Change\n",
        "  print('次のカードが場のカードより高いか低いかを選んでください。高いと思うなら1を、低いと思うなら2を入力してください。')\n",
        "\n",
        "  while True:\n",
        "    inputText = input('あなたの選択: ')\n",
        "    if inputText == '1' or inputText == '2':\n",
        "       break\n",
        "    else:\n",
        "      print('高いなら「1」、低いなら「2」を入力してください。')\n",
        "  \n",
        "  answerNum = int(inputText)\n",
        "  answerText = ComparisonText[int(answerNum)]\n",
        "\n",
        "  nextNum = np.random.randint(1, 13+1)\n",
        "  print('次のカードは',trump[nextNum-1],'でした。') # Change\n",
        "\n",
        "  if fieldNum == nextNum:\n",
        "    resultText = ComparisonText[0]\n",
        "  elif fieldNum < nextNum:\n",
        "    resultText = ComparisonText[1]\n",
        "  elif fieldNum > nextNum:\n",
        "    resultText = ComparisonText[2]\n",
        "  print(resultText, 'です。')\n",
        "\n",
        "  if resultText == ComparisonText[0]:\n",
        "    print('引き分けです。')\n",
        "  elif resultText == answerText:\n",
        "    print('おめでとうございます！')\n",
        "    doubleupCount = doubleupCount + 1\n",
        "  elif resultText != answerText:\n",
        "    print('残念でした。')\n",
        "    break\n",
        "  fieldNum = nextNum\n",
        "  print('')"
      ],
      "execution_count": 6,
      "outputs": [
        {
          "output_type": "stream",
          "text": [
            "1 回目のダブルアップです。\n",
            "場のカードは 6 です。\n",
            "次のカードが場のカードより高いか低いかを選んでください。高いと思うなら1を、低いと思うなら2を入力してください。\n",
            "あなたの選択: 1\n",
            "次のカードは 4 でした。\n",
            "Low2 です。\n",
            "残念でした。\n"
          ],
          "name": "stdout"
        }
      ]
    },
    {
      "cell_type": "markdown",
      "metadata": {
        "id": "ae-WdSGl0_L5",
        "colab_type": "text"
      },
      "source": [
        "# **Level 9: リスト**\n",
        "\n",
        "cf. [3. 形式ばらない Python の紹介 — Python 3.8.1 ドキュメント](https://docs.python.org/ja/3/tutorial/introduction.html#lists), [5. データ構造 — Python 3.8.1 ドキュメント](https://docs.python.org/ja/3/tutorial/datastructures.html#)\n",
        "\n",
        "リストは中身を随時書き換えできる配列です。\n",
        "今回は出てきたカードを保存しておく入れ物に使えそうです。\n",
        "\n",
        "```list = []```で作成し、```list.append(n)```で要素を追加したりします。\n",
        "\n",
        "### **要件**\n",
        "1. **(*)A,2～10,J,Q,Kのセット1、場に出たカードを記録する空セット2を用意する。**\n",
        "1. 1～13のランダムな値をAに格納する。\n",
        "1. 無限ループ1を始める。\n",
        "1. ダブルアップ回数Dを表示する。\n",
        "1. **(*)セット2の中身と、Aに対応したセット1の文字を表示し、セット2に記録する。**\n",
        "1. Aを表示する。\n",
        "1. 「次のカードが場のカードより高いか低いかを選んでください。高いと思うなら1を、低いと思うなら2を入力してください。」と聞き、「1」か「2」の入力を求める。\n",
        "1. 入力が1か2なら次に進み、それ以外ならもう一度入力を求める。\n",
        "1. 1～13のランダムな値をBに格納し、Bに対応したセット1の文字を表示する。\n",
        "1. AとBを比較し、同じなら「0」、Bが高いなら「1」、Bが低いなら「2」を比較結果Cに格納する。ただし、AはKよりも高いとする。\n",
        "1. Cが「0」なら「引き分けです。」と表示する。\n",
        "1. Cが入力と同じなら「ダブルアップ成功です！」と表示して、 ダブルアップ回数Dに1を足す。\n",
        "1. Cが入力と異なるなら「残念。」と表示し、無限ループ1を抜ける。\n",
        "1. AにBを代入し、1. に戻る。\n",
        "\n",
        "### ヒント\n",
        "Pythonでは、「*リスト」のようにアスタリスクをつけることでアンバックができます。そのままprintするとリストそのものを表示しますが、アンパックすると中身のみを表示できます。\n",
        "\n",
        "cf. [4. その他の制御フローツール — Python 3.8.1 ドキュメント](https://docs.python.org/ja/3/tutorial/controlflow.html#tut-unpacking-arguments)"
      ]
    },
    {
      "cell_type": "code",
      "metadata": {
        "id": "uqTEEIDy5MPs",
        "colab_type": "code",
        "colab": {
          "base_uri": "https://localhost:8080/",
          "height": 408
        },
        "outputId": "6bc7547d-30a3-410e-fd59-aa52a447656a"
      },
      "source": [
        "# Level 9: サンプルコード\n",
        "\n",
        "import numpy as np # 乱数を発生させる関数の呼び出し\n",
        "\n",
        "ComparisonText = ('Even', 'High', 'Low')\n",
        "doubleupCount = 1\n",
        "trump = ('2', '3', '4', '5', '6', '7', '8', '9', '10', 'J', 'Q', 'K', 'A')\n",
        "field = [] # Add\n",
        "fieldNum = np.random.randint(1, 13+1)\n",
        "\n",
        "while True:\n",
        "  print(doubleupCount, '回目のダブルアップです。')\n",
        "  field.append(trump[fieldNum-1]) # Add\n",
        "  print('場のカードは', *field, 'です。') # Change\n",
        "  print('次のカードが場のカードより高いか低いかを選んでください。高いと思うなら1を、低いと思うなら2を入力してください。')\n",
        "\n",
        "  while True:\n",
        "    inputText = input('あなたの選択: ')\n",
        "    if inputText == '1' or inputText == '2':\n",
        "       break\n",
        "    else:\n",
        "      print('高いなら「1」、低いなら「2」を入力してください。')\n",
        "  \n",
        "  answerNum = int(inputText)\n",
        "  answerText = ComparisonText[int(answerNum)]\n",
        "\n",
        "  nextNum = np.random.randint(1, 13+1)\n",
        "\n",
        "  print('次のカードは',trump[nextNum-1],'でした。')\n",
        "\n",
        "  if fieldNum == nextNum:\n",
        "    resultText = ComparisonText[0]\n",
        "  elif fieldNum < nextNum:\n",
        "    resultText = ComparisonText[1]\n",
        "  elif fieldNum > nextNum:\n",
        "    resultText = ComparisonText[2]\n",
        "  print(resultText, 'です。')\n",
        "\n",
        "  if resultText == ComparisonText[0]:\n",
        "    print('引き分けです。')\n",
        "  elif resultText == answerText:\n",
        "    print('おめでとうございます！')\n",
        "    doubleupCount = doubleupCount + 1\n",
        "  elif resultText != answerText:\n",
        "    print('残念でした。')\n",
        "    break\n",
        "  fieldNum = nextNum\n",
        "  print('')"
      ],
      "execution_count": 29,
      "outputs": [
        {
          "output_type": "stream",
          "text": [
            "1 回目のダブルアップです。\n",
            "場のカードは 9 です。\n",
            "次のカードが場のカードより高いか低いかを選んでください。高いと思うなら1を、低いと思うなら2を入力してください。\n",
            "あなたの選択: 2\n",
            "次のカードは 2 でした。\n",
            "Low です。\n",
            "おめでとうございます！\n",
            "\n",
            "2 回目のダブルアップです。\n",
            "場のカードは 9 2 です。\n",
            "次のカードが場のカードより高いか低いかを選んでください。高いと思うなら1を、低いと思うなら2を入力してください。\n",
            "あなたの選択: 1\n",
            "次のカードは 10 でした。\n",
            "High です。\n",
            "おめでとうございます！\n",
            "\n",
            "3 回目のダブルアップです。\n",
            "場のカードは 9 2 10 です。\n",
            "次のカードが場のカードより高いか低いかを選んでください。高いと思うなら1を、低いと思うなら2を入力してください。\n",
            "あなたの選択: 2\n",
            "次のカードは K でした。\n",
            "High です。\n",
            "残念でした。\n"
          ],
          "name": "stdout"
        }
      ]
    }
  ]
}