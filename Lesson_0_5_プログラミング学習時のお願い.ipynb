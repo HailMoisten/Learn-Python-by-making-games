{
  "nbformat": 4,
  "nbformat_minor": 0,
  "metadata": {
    "colab": {
      "name": "Lesson 0.5 プログラミング学習時のお願い.ipynb",
      "provenance": [],
      "collapsed_sections": [],
      "authorship_tag": "ABX9TyNul6YdAMJbPOX4sk2AiZqJ",
      "include_colab_link": true
    },
    "kernelspec": {
      "name": "python3",
      "display_name": "Python 3"
    }
  },
  "cells": [
    {
      "cell_type": "markdown",
      "metadata": {
        "id": "view-in-github",
        "colab_type": "text"
      },
      "source": [
        "<a href=\"https://colab.research.google.com/github/HailMoisten/Learn-Python-by-making-games/blob/master/Lesson_0_5_%E3%83%97%E3%83%AD%E3%82%B0%E3%83%A9%E3%83%9F%E3%83%B3%E3%82%B0%E5%AD%A6%E7%BF%92%E6%99%82%E3%81%AE%E3%81%8A%E9%A1%98%E3%81%84.ipynb\" target=\"_parent\"><img src=\"https://colab.research.google.com/assets/colab-badge.svg\" alt=\"Open In Colab\"/></a>"
      ]
    },
    {
      "cell_type": "markdown",
      "metadata": {
        "id": "RwoccvdriuHe",
        "colab_type": "text"
      },
      "source": [
        "## I 読みやすいコードを書く\n",
        "---\n",
        "読みやすいコード(リーダブルコード)を書いていれば、個別に教えられるかもしれません。答案を丁寧に書くように、コードも綺麗に書きましょう。「とりあえず汚くても動くコードを書いて、後で綺麗なコードにリファクタリングしよう」は嘘になります。はじめから綺麗で質の高いコードが書けるように、初学時から意識を割きましょう。\n",
        "\n",
        "特に重要なポイントを3つだけ書いておきます。\n",
        "- コメントを書く\n",
        "- 1行1動作\n",
        "- 名前（識別子）は完全性と唯一性を確保し簡潔に明示的に（少なくともスコープ内で）\n",
        "\n",
        "モダンなエディターでは書き途中のプログラムの構造を解析し、名前の候補を表示するような支援ツールもついています。長い名前でも打たずに済んだりします。\n",
        "\n",
        "cf. [O'Reilly Japan - リーダブルコード](https://www.oreilly.co.jp/books/9784873115658/)\n",
        "\n",
        "cf. [プログラマーを30年間やってきた経験から学んだことまとめ - GIGAZINE](https://gigazine.net/news/20190621-things-i-learnt-the-hard-way/)\n",
        "\n",
        "\n",
        "## II まめのテストを怠らない\n",
        "---\n",
        "コードを書くほどバグも生まれます。気付きに遅れ、1から書き直す羽目になることだってあります。その時は潔くコードを捨てましょう。\n",
        "とはいえ、せっかく書いたコードを捨てたくない気持ちは皆同じです。捨てずに済むよう、こまめにテストをしましょう。とりあえずDoできるところがプログラムの長所です。細かに保存し、テストとデバッグ（Do-Check-Action）をしましょう。必要に応じて要件を確認し、軌道を修正しましょう。\n",
        "\n",
        "プログラムの規模が大きくなってくると、書き直す前に戻りたい…と思うことが多々あるでしょう。そういうテクノロジー、あります。バージョンを分岐（ブランチ）させたり、戻したり（チェックアウト）、合体（マージ）させたりできます。環境構築が可能なら、すぐにでもGitを使いましょう。ColaboratoryならGitHub連携が簡単です。\n",
        "\n",
        "cf. Git, GitHub\n",
        "\n",
        "## III 躓きの自己解決に慣れる\n",
        "---\n",
        "プログラミングの世界は広いです。コードには無数の書き方がありますが、その中には良いコードも悪いコードもあります。それらを見分けるための確かなセオリーの習得を目指しましょう。\n",
        "\n",
        "あなたのコードアイデアを活かすため、課題は柔軟なものを目指しています。実装例が多いほど、躓くポイントも多種多様になります。学び始めのうちはシンプルな課題が多いでしょうから、コーディング以外の躓きもフォローできるように、詳しい人間が個別に教えるべきでしょう。\n",
        "しかし、学びが進み、コードの引き出しが増えてくると、作りたいプログラムを自ら設定できるようになってきます。そうなると、近くの詳しい人がショートカットできるとは限りません。\n",
        "\n",
        "プログラミング中の躓きは、先駆者がWeb上で解決例（ショートカット）を共有していることが多いです。積極的に参考にしましょう。ただし、旧バージョンやマイナーなモジュールを使った、「とりあえず動く」だけのコードも多いので、悪いコードのつぎはぎ、再利用のしすぎでスパゲッティコードを作ってしまわないように気を付けましょう。\n",
        "このリスクを考慮すると、まずは公式のリファレンスを参考とすべきかもしれません。\n",
        "\n",
        "いずれにしても、自己解決には慣れておきましょう。\n",
        "\n",
        "余裕があれば、良いコードも悪いコードも後学者（あなた自身も含む）のショートカットのため、世界と共有しましょう。\n",
        "\n",
        "cf. [GitHub](https://github.co.jp/), [Qiita](https://qiita.com/)"
      ]
    },
    {
      "cell_type": "code",
      "metadata": {
        "id": "7KbzFhqsvvIV",
        "colab_type": "code",
        "outputId": "20564054-9875-4e69-d309-adcf6afc1df4",
        "colab": {
          "base_uri": "https://localhost:8080/",
          "height": 34
        }
      },
      "source": [
        "# 1文字ずつ引き直しprint版\n",
        "import numpy\n",
        "text = ('イ','ヌ','ワ','ン')\n",
        "for i in range(5):\n",
        "  luck = numpy.random.randint(1,len(text)+1)\n",
        "  print(text[int(luck)-1],end='')"
      ],
      "execution_count": 0,
      "outputs": [
        {
          "output_type": "stream",
          "text": [
            "イヌワイン"
          ],
          "name": "stdout"
        }
      ]
    },
    {
      "cell_type": "code",
      "metadata": {
        "id": "Vem-Zzl4qPUQ",
        "colab_type": "code",
        "outputId": "b4197708-aef9-4738-bd24-b20b180e0e86",
        "colab": {
          "base_uri": "https://localhost:8080/",
          "height": 34
        }
      },
      "source": [
        "# 並べ替えprint版\n",
        "import numpy\n",
        "text = ['イ','ヌ','ヌ','ワ','ン']\n",
        "for i in range(5):\n",
        "  luck = numpy.random.randint(1,len(text)+1)\n",
        "  print(text[int(luck)-1],end='')\n",
        "  del text[int(luck)-1]"
      ],
      "execution_count": 0,
      "outputs": [
        {
          "output_type": "stream",
          "text": [
            "ヌンイワヌ"
          ],
          "name": "stdout"
        }
      ]
    },
    {
      "cell_type": "code",
      "metadata": {
        "colab_type": "code",
        "outputId": "5d67daee-8e9c-4d30-d60c-e5604291308f",
        "id": "tJUG1kAJtV6A",
        "colab": {
          "base_uri": "https://localhost:8080/",
          "height": 34
        }
      },
      "source": [
        "# resultに格納して出るまでwhile版\n",
        "import numpy\n",
        "iteration = 0\n",
        "result = ''\n",
        "while result != 'イヌヌワン':\n",
        "  iteration += 1\n",
        "  result = ''\n",
        "  text = ['イ','ヌ','ヌ','ワ','ン']\n",
        "  for i in range(5):\n",
        "    luck = numpy.random.randint(1,len(text)+1)\n",
        "    result += text[int(luck)-1]\n",
        "    del text[int(luck)-1]\n",
        "  # print(result)\n",
        "print(result,'は',iteration,'回目に出ました。')"
      ],
      "execution_count": 0,
      "outputs": [
        {
          "output_type": "stream",
          "text": [
            "イヌヌワン は 53 回目に出ました。\n"
          ],
          "name": "stdout"
        }
      ]
    }
  ]
}