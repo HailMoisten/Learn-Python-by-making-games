{
  "nbformat": 4,
  "nbformat_minor": 0,
  "metadata": {
    "colab": {
      "name": "Lesson 1: Double-up game",
      "provenance": [],
      "collapsed_sections": [],
      "authorship_tag": "ABX9TyPxuw30yZ17JP+GpxnHi/EK",
      "include_colab_link": true
    },
    "kernelspec": {
      "name": "python3",
      "display_name": "Python 3"
    }
  },
  "cells": [
    {
      "cell_type": "markdown",
      "metadata": {
        "id": "view-in-github",
        "colab_type": "text"
      },
      "source": [
        "<a href=\"https://colab.research.google.com/github/HailMoisten/Learn-Python-by-making-games/blob/master/Lesson_1_Double_up_game.ipynb\" target=\"_parent\"><img src=\"https://colab.research.google.com/assets/colab-badge.svg\" alt=\"Open In Colab\"/></a>"
      ]
    },
    {
      "cell_type": "markdown",
      "metadata": {
        "id": "xtHKIx0fM2Mz",
        "colab_type": "text"
      },
      "source": [
        "# **ダブルアップゲームを作る**\n",
        "> 推奨レベル: Progateの「Python I」修了レベル\n",
        "\n",
        "文字出力（print）でド○クエカジノのポーカーで遊べるダブルアップゲームを作ってみよう。\n",
        "\n",
        "完成形のイメージ: https://www.youtube.com/watch?v=8KhQGgexN1w"
      ]
    },
    {
      "cell_type": "markdown",
      "metadata": {
        "id": "KB7yHZctM5dn",
        "colab_type": "text"
      },
      "source": [
        "# **Level 1: モジュールのimportと自学**\n",
        "cf. [インポート | Python-izm](https://www.python-izm.com/basic/import/)\n",
        "\n",
        "### **設計図**\n",
        "1. **1～13のランダムな値を表示する。**\n",
        "\n",
        "### **ヒント**というより手順\n",
        "> ダブルクリックで表示\n",
        "\n",
        "<!---\n",
        "1. pythonで使える乱数生成関数を調べる。\n",
        "1. import文と例文を参考にして，モジュールをimportする。（おそらくnumpy.randomがヒットする）\n",
        "1. importしたモジュールの構文を確認する。\n",
        "1. 1～13のランダムな値をprintする。\n",
        "-->"
      ]
    },
    {
      "cell_type": "code",
      "metadata": {
        "id": "6ynDmnUpM1lP",
        "colab_type": "code",
        "colab": {}
      },
      "source": [
        "# ここにコードを書いてください\n",
        "# Ctrl + Enterで実行\n",
        "# まめにCtrl+Sをしましょう。"
      ],
      "execution_count": 0,
      "outputs": []
    },
    {
      "cell_type": "markdown",
      "metadata": {
        "colab_type": "text",
        "id": "AChdv7rwmH5w"
      },
      "source": [
        "# **Level 2: 変数と識別子**\n",
        "cf. [変数の基本 - Python学習講座](https://www.python.ambitious-engineer.com/archives/128)\n",
        "\n",
        "値を保存して活用するためには変数を使います。\n",
        "変数の識別子（名前）は自由に決められますが，他人や未来の自分が見たとき「どんな値が入っているか直感的に分かる」ような名前にしましょう。\n",
        "\n",
        "Pythonによって予約された数十個の単語は使えません。変数らしい名前(?)にしましょう。\n",
        "\n",
        "cf. [識別子 - Python学習講座](https://www.python.ambitious-engineer.com/archives/52)\n",
        "\n",
        "cf. [命名規則「キャメルケース」「スネークケース」「ケバブケース」についてまとめてみました | 大阪市天王寺区SOHOホームページ制作 | デザインサプライ-DesignSupply.-](https://designsupply-web.com/developmentlab/4052/)\n",
        "\n",
        "## **設計図**\n",
        "1. **1～13のランダムな値を変数Aに格納する。#Change**\n",
        "1. **変数Aを表示する。#Change**\n",
        "1. **1～13のランダムな値を変数Bに格納する。#Add**\n",
        "1. **変数Bを表示する。#Add**"
      ]
    },
    {
      "cell_type": "code",
      "metadata": {
        "id": "YZ-MsgjTtrMQ",
        "colab_type": "code",
        "colab": {}
      },
      "source": [
        "# ここにコードを書いてください\n",
        "# Ctrl + Enterで実行\n",
        "# まめにCtrl+Sをしましょう。"
      ],
      "execution_count": 0,
      "outputs": []
    },
    {
      "cell_type": "markdown",
      "metadata": {
        "id": "jiw8tJQbnV0v",
        "colab_type": "text"
      },
      "source": [
        "# **Level 3: if 文**\n",
        "cf. [if文 - Python学習講座](https://www.python.ambitious-engineer.com/archives/218)\n",
        "\n",
        "### **設計図**\n",
        "1. 1～13のランダムな値を変数Aに格納して表示する。\n",
        "1. 1～13のランダムな値を変数Bに格納して表示する。\n",
        "1. **AとBを比較して、同じなら「Even」、Bが大きいなら「High」、Bが小さいなら「Low」と表示する。#Add**\n",
        "\n",
        "### **ヒント**\n",
        "if文のおわりには「:（半角コロン）」を必ずつけましょう。\n",
        "if文の範囲はTabで字下げ（インデント）を入れましょう。"
      ]
    },
    {
      "cell_type": "code",
      "metadata": {
        "id": "SZNodgo23A_u",
        "colab_type": "code",
        "colab": {}
      },
      "source": [
        "# ここにコードを書いてください\n",
        "# Ctrl + Enterで実行\n",
        "# まめにCtrl+Sをしましょう。"
      ],
      "execution_count": 0,
      "outputs": []
    },
    {
      "cell_type": "markdown",
      "metadata": {
        "colab_type": "text",
        "id": "cNhe9-QImI9v"
      },
      "source": [
        "# **Level 4: input**\n",
        "cf. [コンソールからの入力 (input / raw_input) | Python-izm](https://www.python-izm.com/introduction/console_input/)\n",
        "\n",
        "### **設計図**\n",
        "\n",
        "1. 1～13のランダムな値をAに格納して表示する。\n",
        "1. **「次のカードが場のカードより高いか低いかを選んでください。高いと思うなら1を、低いと思うなら2を入力してください。」と聞き、「1」か「2」の入力を求める。#Add**\n",
        "1. 1～13のランダムな値をBに格納して表示する。\n",
        "1. **AとBを比較し、同じなら「0」、Bが高いなら「1」、Bが低いなら「2」を比較結果Cに格納する。#Change**\n",
        "1. **比較結果Cが「0」なら「引き分けです。」と表示する。#Add**\n",
        "1. **比較結果Cが入力と同じなら「ダブルアップ成功です！」、異なるなら「残念。」と表示する。#Add**\n",
        "\n",
        "### **ヒント**\n",
        "input()だと型が文字列になってしまい、数値との比較がうまくいかなくなります。\n",
        "int()で数値型に変換しましょう。\n"
      ]
    },
    {
      "cell_type": "code",
      "metadata": {
        "id": "gG8vFaVALxcE",
        "colab_type": "code",
        "colab": {}
      },
      "source": [
        "# ここにコードを書いてください\n",
        "# Ctrl + Enterで実行\n",
        "# まめにCtrl+Sをしましょう。"
      ],
      "execution_count": 0,
      "outputs": []
    },
    {
      "cell_type": "markdown",
      "metadata": {
        "id": "7xfSKxZgIQRZ",
        "colab_type": "text"
      },
      "source": [
        "# **Level 5: for文を使う**\n",
        "cf. [for文 - Python学習講座](https://www.python.ambitious-engineer.com/archives/233)\n",
        "\n",
        "10回まで連続でチャレンジができるようにしてみましょう。（カードが10枚までしか表示できないという設定）\n",
        "\n",
        "指定した回数だけ同じことをさせるときは、for文の繰り返しを使います。\n",
        "for文よりインデント（Pythonでは半角スペース2つ）が入っている行を繰り返します。\n",
        "最後まで繰り返さずにループを抜けたいときは`break`を使います。\n",
        "その後の処理を飛ばして次のループの頭に戻りたいときは`continue`を使います。\n",
        "\n",
        "```\n",
        "import numpy as np\n",
        "for v in range(10):\n",
        "  print(v, \"回目\")\n",
        "  print(np.random.randint(1,13+1))\n",
        "```\n",
        "上のサンプルコードでは乱数を10回出力できます。\n",
        "\n",
        "for文はinの後ろの配列の大きさだけ繰り返されます。\n",
        "\n",
        "vの中には、繰り返しのはじめに`range(10)`の繰り返し回数番目の値が入ります。`range(10)`は0～9の配列であるため、初回ループ時のvは`0`です。\n",
        "\n",
        "表示を1からにするために、range(1,10)で1から10の配列を作ったり、ループ回数を表示するときに1を足すなどしましょう。range型の理解も深めておきましょう。\n",
        "\n",
        "cf. [range型 - Python学習講座](https://www.python.ambitious-engineer.com/archives/198)\n",
        "\n",
        "> Pythonでは慣例的にvやkという識別子（名前）を使うようです。多言語ではi,j,kが多いです。\n",
        "\n",
        "### **設計図**\n",
        "1. 1～13のランダムな値をAに格納する。\n",
        "1. **10回ループ1を始める。#Add**\n",
        "  1. **ループ1のループ回数を表示する。#Add**\n",
        "  1. Aを表示する。\n",
        "  1. 「次のカードが場のカードより高いか低いかを選んでください。高いと思うなら1を、低いと思うなら2を入力してください。」と聞き、「1」か「2」の入力を求める。\n",
        "  1. 1～13のランダムな値をBに格納して表示する。\n",
        "  1. AとBを比較し、同じなら「0」、Bが高いなら「1」、Bが低いなら「2」を比較結果Cに格納する。\n",
        "  1. Cが「0」なら「引き分けです。」と表示する。\n",
        "  1. Cが入力と同じなら「ダブルアップ成功です！」と表示する。\n",
        "  1. **Cが入力と異なるなら「残念。」と表示し、ループ1を抜ける。#Change**\n",
        "  1. **AにBを代入し、ループ1を終える。#Add**"
      ]
    },
    {
      "cell_type": "code",
      "metadata": {
        "id": "kh-tRikg3BbD",
        "colab_type": "code",
        "colab": {}
      },
      "source": [
        "# ここにコードを書いてください\n",
        "# Ctrl + Enterで実行\n",
        "# まめにCtrl+Sをしましょう。"
      ],
      "execution_count": 0,
      "outputs": []
    },
    {
      "cell_type": "markdown",
      "metadata": {
        "id": "nOuaIZMH61WK",
        "colab_type": "text"
      },
      "source": [
        "# **Level 6: while文と論理演算**\n",
        "cf. [while文 - Python学習講座](https://www.python.ambitious-engineer.com/archives/239)\n",
        "\n",
        "1,2以外が入力される限り、入力を無限にやり直させましょう。\n",
        "for文は基本的に繰り返し回数を指定するので、無限ループには適していません。\n",
        "条件を満たすまで無限に繰り返したい場合はwhile文を使いましょう。\n",
        "\n",
        "また、for文の繰り返し回数は引き分けでも増えるので、成功時のみ増えるダブルアップ回数を用意して表示しましょう。\n",
        "\n",
        "### **設計図**\n",
        "1. 1～13のランダムな値をAに格納する。\n",
        "1. 10回ループ1を始める。\n",
        "  1. **ダブルアップ回数Dを表示する。#Change**\n",
        "  1. Aを表示する。\n",
        "  1. 「次のカードが場のカードより高いか低いかを選んでください。高いと思うなら1を、低いと思うなら2を入力してください。」と聞き、「1」か「2」の入力を求める。\n",
        "  1. **入力が1か2なら次に進み、それ以外ならもう一度入力を求める。#Add**\n",
        "  1. 1～13のランダムな値をBに格納して表示する。\n",
        "  1. AとBを比較し、同じなら「0」、Bが高いなら「1」、Bが低いなら「2」を比較結果Cに格納する。\n",
        "  1. Cが「0」なら「引き分けです。」と表示する。\n",
        "  1. **Cが入力と同じなら「ダブルアップ成功です！」と表示して、 ダブルアップ回数Dに1を足す。#Add**\n",
        "  1. Cが入力と異なるなら「残念。」と表示し、ループ1を抜ける。\n",
        "  1. AにBを代入し、ループ1を終える。\n",
        "\n",
        "### **ヒント**\n",
        "if文で入力をチェックする。条件に合うまで聞きたいのでwhile True:を使う。\n",
        "複数の条件は論理演算でスマートに書けることがあります。\n",
        "\n",
        "cf. [bool(論理)型 - Python学習講座](https://www.python.ambitious-engineer.com/archives/204)"
      ]
    },
    {
      "cell_type": "code",
      "metadata": {
        "id": "QpQDGLE07JUj",
        "colab_type": "code",
        "colab": {}
      },
      "source": [
        "# ここにコードを書いてください\n",
        "# Ctrl + Enterで実行\n",
        "# まめにCtrl+Sをしましょう。"
      ],
      "execution_count": 0,
      "outputs": []
    },
    {
      "cell_type": "markdown",
      "metadata": {
        "id": "ZledE2eYxoGw",
        "colab_type": "text"
      },
      "source": [
        "# **Level 7: タプル**\n",
        "\n",
        "タプルを使って1～13は比較として使い、表示はA～Kにしましょう。\n",
        "\n",
        "タプルやLevel 8のリストのことを多言語では配列（インデックス、セット）と呼んだりします。\n",
        "複数の入れ物を持つ変数です。めっちゃ使います。Lesson 1では取り扱いませんが、Pythonではディクショナリという配列が優秀です。追って勉強しましょう。\n",
        "\n",
        "cf. [タプル(tuple)型 - Python学習講座](https://www.python.ambitious-engineer.com/archives/168)\n",
        "\n",
        "タプルは不変の配列です。途中で中身を書き換えできません。不変なので変数ではなく不変数ですね。初めに設定して、終始変化しないものを入れるとよいかもしれません。\n",
        "今回はトランプ本体に適していると思います。\n",
        "\n",
        "### **設計図**\n",
        "1. **「A,2～10,J,Q,K」のセット1を用意する。#Add**\n",
        "1. 1～13のランダムな値をAに格納する。\n",
        "1. 10回ループ1を始める。\n",
        "  1. ダブルアップ回数Dを表示する。\n",
        "  1. **Aに対応したセット1の文字を表示する。#Change**\n",
        "  1. Aを表示する。\n",
        "  1. 「次のカードが場のカードより高いか低いかを選んでください。高いと思うなら1を、低いと思うなら2を入力してください。」と聞き、「1」か「2」の入力を求める。\n",
        "  1. 入力が1か2なら次に進み、それ以外ならもう一度入力を求める。\n",
        "  1. **1～13のランダムな値をBに格納し、Bに対応したセット1の文字を表示する。#Change**\n",
        "  1. AとBを比較し、同じなら「0」、Bが高いなら「1」、Bが低いなら「2」を比較結果Cに格納する。**ただし、AはKよりも高いとする。#!**\n",
        "  1. Cが「0」なら「引き分けです。」と表示する。\n",
        "  1. Cが入力と同じなら「ダブルアップ成功です！」と表示して、 ダブルアップ回数Dに1を足す。\n",
        "  1. Cが入力と異なるなら「残念。」と表示し、ループ1を抜ける。\n",
        "  1. AにBを代入し、ループ1を終える。\n",
        "\n",
        "### **ヒント**\n",
        "配列は作った大きさの外を指定するとエラーをになります。\n",
        "Python 3の配列の1番目は「0」です。気をつけましょう。\n",
        "A(>K)の実装方法はいくつかありますよね。"
      ]
    },
    {
      "cell_type": "code",
      "metadata": {
        "id": "72g9DMAe1Iq9",
        "colab_type": "code",
        "colab": {}
      },
      "source": [
        "# ここにコードを書いてください\n",
        "# Ctrl + Enterで実行\n",
        "# まめにCtrl+Sをしましょう。"
      ],
      "execution_count": 0,
      "outputs": []
    },
    {
      "cell_type": "markdown",
      "metadata": {
        "id": "ae-WdSGl0_L5",
        "colab_type": "text"
      },
      "source": [
        "# **Level 8: リスト**\n",
        "\n",
        "cf. [3. 形式ばらない Python の紹介 — Python 3.8.1 ドキュメント](https://docs.python.org/ja/3/tutorial/introduction.html#lists), [5. データ構造 — Python 3.8.1 ドキュメント](https://docs.python.org/ja/3/tutorial/datastructures.html#)\n",
        "\n",
        "リストは中身を随時書き換えできる配列です。\n",
        "今回は出てきたカードを保存しておく入れ物に使えそうです。\n",
        "\n",
        "```list = []```で作成し、```list.append(n)```で要素を追加したりします。\n",
        "\n",
        "### **設計図**\n",
        "1. **「A,2～10,J,Q,K」のセット1、場に出たカードを記録する空セット2を用意する。#Change**\n",
        "1. 1～13のランダムな値をAに格納する。\n",
        "1. 10回ループ1を始める。\n",
        "  1. ダブルアップ回数Dを表示する。\n",
        "  1. **セット2の中身と、Aに対応したセット1の文字を表示し、セット2に記録する。#Change**\n",
        "  1. Aを表示する。\n",
        "  1. 「次のカードが場のカードより高いか低いかを選んでください。高いと思うなら1を、低いと思うなら2を入力してください。」と聞き、「1」か「2」の入力を求める。\n",
        "  1. 入力が1か2なら次に進み、それ以外ならもう一度入力を求める。\n",
        "  1. 1～13のランダムな値をBに格納し、Bに対応したセット1の文字を表示する。\n",
        "  1. AとBを比較し、同じなら「0」、Bが高いなら「1」、Bが低いなら「2」を比較結果Cに格納する。ただし、AはKよりも高いとする。\n",
        "  1. Cが「0」なら「引き分けです。」と表示する。\n",
        "  1. Cが入力と同じなら「ダブルアップ成功です！」と表示して、 ダブルアップ回数Dに1を足す。\n",
        "  1. Cが入力と異なるなら「残念。」と表示し、ループ1を抜ける。\n",
        "  1. AにBを代入し、ループ1を終える。\n",
        "\n",
        "### **ヒント**\n",
        "Pythonでは、「*リスト」のようにアスタリスクをつけることでアンパックができます。そのままprintするとリストそのものを表示しますが、アンパックすると中身のみを表示できます。\n",
        "\n",
        "cf. [4. その他の制御フローツール — Python 3.8.1 ドキュメント](https://docs.python.org/ja/3/tutorial/controlflow.html#tut-unpacking-arguments)"
      ]
    },
    {
      "cell_type": "code",
      "metadata": {
        "id": "uqTEEIDy5MPs",
        "colab_type": "code",
        "colab": {}
      },
      "source": [
        "# ここにコードを書いてください\n",
        "# Ctrl + Enterで実行\n",
        "# まめにCtrl+Sをしましょう。"
      ],
      "execution_count": 0,
      "outputs": []
    },
    {
      "cell_type": "markdown",
      "metadata": {
        "id": "xLhOB1d5qnBk",
        "colab_type": "text"
      },
      "source": [
        "# **Level 9(Boss): 多重ループ**\n",
        "\n",
        "コイン、ベット、報酬、継続の選択を追加して、仮完成させましょう。\n",
        "\n",
        "ループを多重に作るときは、ループ範囲を設定するインデント(Tabキーで入力可能)に注意しましょう。\n",
        "\n",
        "### **設計図**\n",
        "1. **コインケースにコインを100枚用意する。#Add**\n",
        "1. A,2～10,J,Q,Kのセット1、場に出たカードを記録する空セット2を用意する。\n",
        "1. **無限ループ2を始める。#Add**\n",
        "  1. **空セット2、ダブルアップ回数を初期化する。#Add**\n",
        "  1. **コインケースの残り枚数を表示する。#Add**\n",
        "  1. **コインケースの枚数が足りない場合、無限ループ2を抜ける。枚数が200枚を超えている場合、称賛して無限ループ2を抜ける。#Add**\n",
        "  1. **コインケースから10枚ベットする。#Add**\n",
        "  1. 1～13のランダムな値をAに格納する。\n",
        "  1. 10回ループ1を始める。\n",
        "    1. ダブルアップ回数Dを表示する。\n",
        "    1. セット2の中身と、Aに対応したセット1の文字を表示し、セット2に記録する。\n",
        "    1. Aを表示する。\n",
        "    1. 「次のカードが場のカードより高いか低いかを選んでください。高いと思うなら1を、低いと思うなら2を入力してください。」と聞き、「1」か「2」の入力を求める。\n",
        "    1. 入力が1か2なら次に進み、それ以外ならもう一度入力を求める。\n",
        "    1. 1～13のランダムな値をBに格納し、Bに対応したセット1の文字を表示する。\n",
        "    1. AとBを比較し、同じなら「0」、Bが高いなら「1」、Bが低いなら「2」を比較結果Cに格納する。ただし、AはKよりも高いとする。\n",
        "    1. Cが「0」なら「引き分けです。」と表示する。\n",
        "    1. Cが入力と同じなら「ダブルアップ成功です！」と表示して、 ダブルアップ回数Dに1を足す。**ベットを2倍にする。ループ1のループ回数が10か、入力を求めて2が入力されたなら、ベットをコインケースに足し、無限ループ1を抜ける。#Add**\n",
        "    1. Cが入力と異なるなら「残念。」と表示し、ループ1を抜ける。\n",
        "    1. AにBを代入して、ループ1を終える。\n",
        "\n"
      ]
    },
    {
      "cell_type": "code",
      "metadata": {
        "id": "CerAI31dvIOK",
        "colab_type": "code",
        "colab": {}
      },
      "source": [
        "# ここにコードを書いてください\n",
        "# Ctrl + Enterで実行\n",
        "# まめにCtrl+Sをしましょう。"
      ],
      "execution_count": 0,
      "outputs": []
    },
    {
      "cell_type": "markdown",
      "metadata": {
        "id": "09LPbuq2xX_S",
        "colab_type": "text"
      },
      "source": [
        "# **Lesson 1 クリア**\n",
        "おめでとうございます！Lesson 1クリアです！\n",
        "\n",
        "それなりに楽しめるプログラムになったと思いますが、面白さ・遊びやすさはまだまだ足りませんよね。\n",
        "\n",
        "考えられる拡張要件をいくつか書いておきます。勉強して書いてみてください。\n",
        "\n",
        "### **要件 Ex**\n",
        "- ベットの数字を入力で決める\n",
        "- 制限時間経過後の枚数を記録する\n",
        "- 画面を適宜クリアする\n",
        "- ディクショナリでトランプの山札を用意\n",
        "- ジョーカーの追加\n",
        "- カードを画像で表示する\n",
        "- SE, BGMを鳴らす\n",
        "- ルールを変更する\n",
        "  - 「High or Low」ではなく「伏せた4枚からHighのカードを選ぶ」など\n",
        "  > 現在のルールは期待値が高すぎるため\n",
        "- コインを得る手段を作る\n",
        "- ダブルアップの挑戦権を得るためのゲームを作る\n",
        "- オブジェクト化で再利用できる部品にする\n",
        "- etc..."
      ]
    },
    {
      "cell_type": "markdown",
      "metadata": {
        "id": "t6HZEmvsteQL",
        "colab_type": "text"
      },
      "source": [
        "##  **Level Ex: 面白くする・遊びやすくする**\n",
        "\n",
        "- **ベットの数字を入力で決める#Add**\n",
        "- **制限時間経過後の枚数を記録する#Add**\n",
        "- **画面を適宜クリアする#Add**"
      ]
    },
    {
      "cell_type": "code",
      "metadata": {
        "id": "X9L0rLUfjx-2",
        "colab_type": "code",
        "colab": {}
      },
      "source": [
        "# ここにコードを書いてください\n",
        "# Ctrl + Enterで実行\n",
        "# まめにCtrl+Sしましょう"
      ],
      "execution_count": 0,
      "outputs": []
    }
  ]
}